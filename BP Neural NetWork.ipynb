{
 "cells": [
  {
   "cell_type": "code",
   "execution_count": 1,
   "metadata": {},
   "outputs": [],
   "source": [
    "import numpy as np\n",
    "\n",
    "\n",
    "def sigmoid(x):\n",
    "    return 1.0/(1 + np.exp(-x))\n",
    "\n",
    "\n",
    "def sigmoid_derivative(x):\n",
    "    return x * (1.0 - x)\n"
   ]
  },
  {
   "cell_type": "code",
   "execution_count": 2,
   "metadata": {},
   "outputs": [],
   "source": [
    "class NeuralNetwork:\n",
    "\n",
    "    def __init__(self, x, y):\n",
    "        self.input = x\n",
    "        self.weights1 = np.random.rand(self.input.shape[1], 4)\n",
    "        self.weights2 = np.random.rand(4, 1)\n",
    "        self.y = y\n",
    "        self.output = np.zeros(self.y.shape)\n",
    "\n",
    "    def feedforward(self):\n",
    "        self.layer1 = sigmoid(np.dot(self.input, self.weights1))\n",
    "        self.output = sigmoid(np.dot(self.layer1, self.weights2))\n",
    "\n",
    "    def backpropagation(self):\n",
    "        self.layer1 = sigmoid(np.dot(self.input, self.weights1))\n",
    "        self.output = sigmoid(np.dot(self.layer1, self.weights2))\n",
    "\n",
    "    def backpropagation(self):\n",
    "        d_weights2 = np.dot(\n",
    "            self.layer1.T, (2*(self.y - self.output) * sigmoid_derivative(self.output)))\n",
    "\n",
    "        d_weights1 = np.dot(self.input.T, (np.dot(2*(self.y - self.output) * sigmoid_derivative(\n",
    "            self.output), self.weights2.T) * sigmoid_derivative(self.layer1)))\n",
    "\n",
    "     # we update the weights with the derivative of the loss function\n",
    "        self.weights1 += d_weights1\n",
    "        self.weights2 += d_weights2\n"
   ]
  },
  {
   "cell_type": "code",
   "execution_count": 4,
   "metadata": {},
   "outputs": [],
   "source": [
    "if __name__ == \"__main__\":\n",
    "    X = np.array([[0, 0, 1],\n",
    "                  [0, 1, 1],\n",
    "                  [1, 0, 1],\n",
    "                  [1, 1, 1]])\n",
    "\n",
    "    y = np.array([[0], [1], [1], [0]])\n",
    "\n",
    "    nn = NeuralNetwork(X, y)\n"
   ]
  },
  {
   "cell_type": "code",
   "execution_count": 5,
   "metadata": {},
   "outputs": [
    {
     "name": "stdout",
     "output_type": "stream",
     "text": [
      "[[0.00751946]\n",
      " [0.97138701]\n",
      " [0.97118012]\n",
      " [0.03388974]]\n"
     ]
    }
   ],
   "source": [
    "\n",
    "for i in range(1800):\n",
    "    nn.feedforward()\n",
    "    nn.backpropagation()\n",
    "\n",
    "print(nn.output)\n"
   ]
  }
 ],
 "metadata": {
  "kernelspec": {
   "display_name": "Python 3",
   "language": "python",
   "name": "python3"
  },
  "language_info": {
   "codemirror_mode": {
    "name": "ipython",
    "version": 3
   },
   "file_extension": ".py",
   "mimetype": "text/x-python",
   "name": "python",
   "nbconvert_exporter": "python",
   "pygments_lexer": "ipython3",
   "version": "3.10.6"
  },
  "orig_nbformat": 4
 },
 "nbformat": 4,
 "nbformat_minor": 2
}
