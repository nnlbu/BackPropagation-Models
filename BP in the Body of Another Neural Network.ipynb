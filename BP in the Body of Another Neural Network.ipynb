{
 "cells": [
  {
   "cell_type": "code",
   "execution_count": 1,
   "metadata": {},
   "outputs": [],
   "source": [
    "import numpy as np\n",
    "\n",
    "\n",
    "def sigmoid(x, derivative=False):\n",
    "\n",
    "    if (derivative == True):\n",
    "        return sigmoid(x, derivative=False) * (1 - sigmoid(x, derivative=False))\n",
    "    else:\n",
    "        return 1/(1+np.exp(-x))\n"
   ]
  },
  {
   "cell_type": "code",
   "execution_count": 2,
   "metadata": {},
   "outputs": [],
   "source": [
    "np.random.seed(1)\n",
    "\n",
    "alpha = 0.1\n",
    "\n",
    "num_hidden = 3\n",
    "\n",
    "X = np.array([\n",
    "    [0, 0, 1],\n",
    "    [0, 1, 1],\n",
    "    [1, 0, 0],\n",
    "    [1, 1, 0],\n",
    "    [1, 0, 1],\n",
    "    [1, 1, 1],\n",
    "])\n",
    "\n",
    "y = np.array([[0, 1, 0, 1, 1, 0]]).T\n",
    "\n",
    "hidden_weights = 2*np.random.random((X.shape[1] + 1, num_hidden)) - 1\n",
    "output_weights = 2*np.random.random((num_hidden + 1, y.shape[1])) - 1\n"
   ]
  },
  {
   "cell_type": "code",
   "execution_count": 3,
   "metadata": {},
   "outputs": [
    {
     "name": "stdout",
     "output_type": "stream",
     "text": [
      "Output after Training: \n",
      "[[0.49898049]\n",
      " [0.50028935]\n",
      " [0.49913911]\n",
      " [0.5003266 ]\n",
      " [0.50059768]\n",
      " [0.50066887]]\n"
     ]
    }
   ],
   "source": [
    "num_iterations = 10000\n",
    "\n",
    "\n",
    "# for each iteration of the gradient descent\n",
    "for i in range(num_iterations):\n",
    "\n",
    "    # forward phase\n",
    "    input_layer_outputs = np.hstack((np.ones((X.shape[0], 1)), X))\n",
    "\n",
    "    hidden_layer_outputs = np.hstack((np.ones((X.shape[0], 1)), sigmoid(\n",
    "        np.dot(input_layer_outputs, hidden_weights))))\n",
    "\n",
    "    output_layer_outputs = np.dot(hidden_layer_outputs, output_weights)\n",
    "\n",
    "    # backward phase\n",
    "    output_error = output_layer_outputs - y\n",
    "\n",
    "    # hidden layer error term and [:, 1:] removes the bias term from the backpropagation\n",
    "    hidden_error = hidden_layer_outputs[:, 1:] * (\n",
    "        1 - hidden_layer_outputs[:, 1:] * np.dot(output_error, output_weights.T[:, 1:]))\n",
    "\n",
    "    # partial derivatives\n",
    "\n",
    "    hidden_pd = input_layer_outputs[:, :,\n",
    "                                    np.newaxis] * hidden_error[:, np.newaxis, :]\n",
    "    output_pd = hidden_layer_outputs[:, :,\n",
    "                                     np.newaxis] * output_error[:, np.newaxis, :]\n",
    "\n",
    "    total_hidden_gradient = np.average(hidden_pd, axis=0)\n",
    "    total_output_gradient = np.average(output_pd, axis=0)\n",
    "\n",
    "    hidden_weights += - alpha * total_hidden_gradient\n",
    "    output_weights += - alpha * total_output_gradient\n",
    "\n",
    "print(\"Output after Training: \\n{}\".format(output_layer_outputs))\n"
   ]
  }
 ],
 "metadata": {
  "kernelspec": {
   "display_name": "Python 3",
   "language": "python",
   "name": "python3"
  },
  "language_info": {
   "codemirror_mode": {
    "name": "ipython",
    "version": 3
   },
   "file_extension": ".py",
   "mimetype": "text/x-python",
   "name": "python",
   "nbconvert_exporter": "python",
   "pygments_lexer": "ipython3",
   "version": "3.10.6"
  },
  "orig_nbformat": 4
 },
 "nbformat": 4,
 "nbformat_minor": 2
}
